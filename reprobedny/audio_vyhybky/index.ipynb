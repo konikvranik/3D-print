{
 "cells": [
  {
   "metadata": {},
   "cell_type": "markdown",
   "source": [
    "# Reproduktorové výhybky\n",
    "\n",
    "Návrh výhybky reproduktorové soustavy je vlastně hlavním bodem návrhu reproduktorové soustavy. Výhybka určuje, jak bude signál rozdělen mezi jednotlivé reproduktory z hlediska kmitočtu i amplitudy. Umožňuje využít předností jednotlivých reproduktorů a potlačit některé jejich nectnosti. Musí být navržena tak, aby každý reproduktor pracoval v optimálním režimu a aby se reprodukovaný signál nejvíce podobal tomu, co do soustavy přivádíme. Výsledná kmitočtová charakteristika soustavy by měla být vyrovnaná nejen v akustické ose soustavy, ale pokud možno i mimo ni. Vstupní impedance musí představovat bezpečnou zátěž pro zesilovač a neměla by být příčinou jeho přetížení a selhání.\n",
    "\n",
    "První otázkou, kterou musíme při návrhu řešit, je volba dělících kmitočtů. Pro jejich správné stanovení je nezbytné všestranné posouzení konstrukce a vlastností všech reproduktorů. Basový reproduktor mívá někdy na vyšších kmitočtech nevyrovnanou kmit. charakteristiku nebo dokonce převýšení a s rostoucím kmitočtem dříve či později podle rozměru a tvaru membrány směruje. Středotónový reproduktor nás naopak omezuje ve snaze posouvat dělící kmitočet směrem dolů. U přímovyzařujících středotónových reproduktorů se potřebujeme dostat do oblasti impedančního minima, obvykle asi okolo 4násobků (2 oktávy) rezonančního kmitočtu. Je to proto, že v této oblasti má jeho impedance převážně odporový charakter, což je dobré pro výhybku. Na nižších kmitočtech zase vzrůstá výchylka membrány a tím i zkreslení. Rovněž zatížení středotónového reproduktoru je dobré vzít v úvahu - čím větší zpracovávaný výkon, tím bezpečnější bude volit spodní dělící kmitočet raději vyšší. U tlakových výškových reproduktorů platí podobná zákonitost. Rozhodně není vhodné volit dělící kmitočet níže než je doporučován výrobcem, naopak - bude-li ležet alespoň o oktávu výše (dvojnásobek), reproduktoru se ulehčí. Zvláště u výškového reproduktoru by jsme měli být při volbě dělícího kmitočtu velice opatrní - příliš nízký dělící kmitočet je zárukou spálení reproduktoru.\n",
    "\n",
    "Dalším krokem je volba typů a strmostí jednotlivých propustí. Pro basový reproduktor používáme dolní propust, pro středotónový reproduktor pásmovou propust a pro výškový reproduktor horní propust. Přes rostoucí pronikání elektroniky v reproduktorových soustavách stále převažují pasivní výhybky, které jsou složeny z kondenzátorů, cívek a rezistorů, a to především pro svoji relativní láci a snadnou výrobu. Typ propusti znamená volit vhodnou aproximaci (to jak bude vypadat kmitočtová a fázová charakteristika). V praxi se nejčastěji používají filtry typu Buterworth, Bessel a Linkwitz-Rilley. Ovšem použití přesně těchto aproximací je spíše na závadu, neboť reálný reproduktor vykazuje impedanci indukčního charakteru. Máme-li k dispozici kvalitní programové vybavení, je možné výhybku rozlaďovat s uvážením indukčního charakteru impedance reproduktoru. Takovým způsobem stanovíme hodnoty součástek dle našeho záměru frekv. charakteristiky, mnohdy i s přihlédnutím na tvar frekvenční charakteristiky reproduktoru.\n",
    "\n",
    "Pokud jde o strmost výhybky, velmi často se používají výhybky se strmostmi 12 dB/okt., které ve většině případů představují nejlepší kompromis z hlediska frekvenční a fázové charakteristiky, oddělení jednotlivých pásem, směrové charakteristiky v oblasti dělícího kmitočtu a výrobních nákladů. Jednoduché výhybky 6 dB/okt. lze použít pouze pro basový reproduktor jako omezení shora - dolní propust, nebo v těch nejlevnějších HIFI reprosoustavách. Taková výhybka totiž vyžaduje velmi kvalitní reproduktor, jehož charakteristika nemá převýšení na horním okraji pásma. Lze ji rovněž použít tam, kde nepotřebujeme strmé potlačení vyzařování reproduktoru ve spodním pásmu. U vysokotónových reproduktorů se volí výhybka se strmosti minimálně 12 dB/okt. (často 18 dB/okt.). Výhodou je účinnější potlačení složek signálu pod dělícím kmitočtem, menší zatížení reproduktoru a nižší zkreslení. Na druhé straně výhybky s velkými strmostmi představují nekontrolovatelné fázové posuny a tím zkreslení - je i zde potřeba volit kompromis. Zvyšování strmosti nám dovoluje snižovat spodní dělící kmitočet. Jako vhodnou kombinaci lze doporučit i pro HIFI reprosoustavy kombinaci 12/12/18 dB/okt. pro třípásmový systém. Následující grafy ukazují aproximované průběhy frekvenčních charakteristik pro dvoupásmovou a třípásmovou výhybku se strmostí 6 a 12 dB/okt.\n",
    "\n",
    "Praktický návrh výhybky není bohužel jednoduchá záležitost. Je to proto, že výsledek návrhu tohoto elektrického obvodu je třeba hodnotit především na akustické straně, kde se nám do hodnocení plete navíc ozvučnice. Vlastní návrh výhybky může probíhat dvěma způsoby. Buď se vytvoří obvodový model výhybky a její zátěže a ten se \"obrábí\" na vhodném programu nebo se navrhne výchozí podoba výhybky na základě známých vzorců, ze součástek se postaví funkční model a ten se pak na základě měření a později i poslechu postupně upravuje směrem k žádanému cíli. Nevýhodou ovšem zůstává fakt, že návrh je \"dělán\" na čistě odporovou zátěž reproduktoru (např. 8 Ω), ale jak víme, impedanční charakteristika reproduktoru má komplexní charakter, což znamená dále výhybku dolaďovat, měřit a poslouchat. Následující text se bude zabývat druhou variantou vycházející z osvědčených zapojení a vzorců.\n",
    "\n",
    "Každá výhybka je složena z dolní propusti, horní propusti a v případě třípásmové výhybky z pásmové propusti. Nyní uvedeme postupně všechna zapojení a návrhové vzorce propustí vždy pro strmost 6, 12 a 18 dB/okt. s aproximací Linkwitz-Rilley. Zh nechť je impedance hlubokotónového, Zv výškového a Zs středotónového reproduktoru. fdd je dolní dělící kmitočet a fdh je horní dělící kmitočet pro třípásmovou výhybku. V případě dvoupásmové výhybky je fdd = fdh.\n",
    "\n",
    "![schema.png](schema.png)"
   ],
   "id": "f19d63a7dc84b2ce"
  },
  {
   "metadata": {
    "ExecuteTime": {
     "end_time": "2024-12-20T19:46:27.042433Z",
     "start_time": "2024-12-20T19:46:26.729110Z"
    }
   },
   "cell_type": "code",
   "source": [
    "import math\n",
    "from pint import UnitRegistry\n",
    "\n",
    "ureg = UnitRegistry()"
   ],
   "id": "44fe76ebcbce200e",
   "outputs": [],
   "execution_count": 1
  },
  {
   "metadata": {},
   "cell_type": "markdown",
   "source": [
    "## Dolní propust\n",
    "\n",
    "![Dolní propust](lopass.png)\n",
    "\n",
    "| 6 dB / oct.                                                                | 12 dB / ct.                                                                                                                  | 18 dB / oct.                                                                                                                                                                                      |\n",
    "|:---------------------------------------------------------------------------|:-----------------------------------------------------------------------------------------------------------------------------|:--------------------------------------------------------------------------------------------------------------------------------------------------------------------------------------------------|\n",
    "| $ \\begin{aligned} L = \\frac{Z_h}{2 \\cdot \\pi \\cdot f_{dd}} \\end{aligned} $ | $ \\begin{aligned} L &= \\frac{Z_h}{\\pi \\cdot f_{dd}}, \\\\ \\\\ C &= \\frac{1}{4 \\cdot \\pi \\cdot d_{dd} \\cdot Z_h} \\end{aligned} $ | $ \\begin{aligned} L_1 &= \\frac{3 \\cdot Z_h}{4 \\cdot \\pi \\cdot f_{dd}}, \\\\ \\\\ L_2 &= \\frac{Z_h}{4 \\cdot \\pi \\cdot f_{dd}}, \\\\ \\\\ C &= \\frac{2}{3 \\cdot \\pi \\cdot f_{dd} \\cdot Z_h} \\end{aligned} $ |\n"
   ],
   "id": "f2e47635c26822c6"
  },
  {
   "metadata": {
    "ExecuteTime": {
     "end_time": "2024-12-20T19:46:27.070285Z",
     "start_time": "2024-12-20T19:46:27.058332Z"
    }
   },
   "cell_type": "code",
   "source": [
    "impedance_reproduktoru = ureg.parse_expression('8 Ω')\n",
    "dolni_frekvence = ureg.parse_expression('300 Hz')\n",
    "\n",
    "a = 1 / (math.pi * dolni_frekvence)\n",
    "\n",
    "print(f\"6 dB: L = {(impedance_reproduktoru * a / 2).to(ureg.henry):.1f~#P}\")\n",
    "print(\n",
    "    f\"12 dB: L = {(impedance_reproduktoru * a).to(ureg.henry):.1f~#P}, C = {(a / (4 * impedance_reproduktoru)).to(ureg.farad):.1f~#P}\")\n",
    "print(\n",
    "    f\"18 dB: L1 = {(3 * a * impedance_reproduktoru / 4).to(ureg.henry):.1f~#P}, L2 = {(a * impedance_reproduktoru / 4).to(ureg.henry):.1f~#P}, C = {(2 * a / (3 * impedance_reproduktoru)).to(ureg.farad):.1f~#P}\")"
   ],
   "id": "1f6d8b1f0c717297",
   "outputs": [
    {
     "name": "stdout",
     "output_type": "stream",
     "text": [
      "6 dB: L = 4.2 mH\n",
      "12 dB: L = 8.5 mH, C = 33.2 µF\n",
      "18 dB: L1 = 6.4 mH, L2 = 2.1 mH, C = 88.4 µF\n"
     ]
    }
   ],
   "execution_count": 2
  },
  {
   "metadata": {},
   "cell_type": "markdown",
   "source": [
    "## Horní propust\n",
    "\n",
    "![Horní propust](hipass.png)\n",
    "\n",
    "| 6 dB / oct.                                                                        | 12 dB / ct.                                                                                                                  | 18 dB / oct.                                                                                                                                                                                      |\n",
    "|:-----------------------------------------------------------------------------------|:-----------------------------------------------------------------------------------------------------------------------------|:--------------------------------------------------------------------------------------------------------------------------------------------------------------------------------------------------|\n",
    "| $ \\begin{aligned} C = \\frac{1}{2 \\cdot \\pi \\cdot f_{dh} \\cdot Z_v} \\end{aligned} $ | $ \\begin{aligned} L &= \\frac{Z_v}{\\pi \\cdot f_{dh}}, \\\\ \\\\ C &= \\frac{1}{4 \\cdot \\pi \\cdot f_{dh} \\cdot Z_v} \\end{aligned} $ | $ \\begin{aligned} C_1 &= \\frac{1}{3 \\cdot \\pi \\cdot f_{dh} \\cdot Z_v}, \\\\ \\\\ C_2 &= \\frac{1}{\\pi \\cdot f_{dh} \\cdot Z_v}, \\\\ \\\\ L &= \\frac{3 \\cdot Z_v}{8 \\cdot \\pi \\cdot f_{dh}} \\end{aligned} $ |\n"
   ],
   "id": "81d799e1cba90fb9"
  },
  {
   "metadata": {
    "ExecuteTime": {
     "end_time": "2024-12-20T19:46:27.267455Z",
     "start_time": "2024-12-20T19:46:27.261340Z"
    }
   },
   "cell_type": "code",
   "source": [
    "impedance_reproduktoru = ureg.parse_expression('8 Ω')\n",
    "horni_frekvence = ureg.parse_expression('3 kHz')\n",
    "\n",
    "b = 1 / (math.pi * horni_frekvence)\n",
    "\n",
    "print(f\"6 dB: C = {(b / (2 * impedance_reproduktoru)).to(ureg.farad):.1f~#P}\")\n",
    "print(\n",
    "    f\"12 dB: L = {(impedance_reproduktoru * b).to(ureg.henry):.1f~#P}, C = {(b / (4 * impedance_reproduktoru)).to(ureg.farad):.1f~#P}\")\n",
    "print(\n",
    "    f\"18 dB: L = {(3 * b * impedance_reproduktoru / 8).to(ureg.henry):.1f~#P}, C1 = {(b / (3 * impedance_reproduktoru)).to(ureg.farad):.1f~#P}, C2 = {(b / impedance_reproduktoru).to(ureg.farad):.1f~#P}\")"
   ],
   "id": "aca7f8f0e4e35d9",
   "outputs": [
    {
     "name": "stdout",
     "output_type": "stream",
     "text": [
      "6 dB: C = 6.6 µF\n",
      "12 dB: L = 848.8 µH, C = 3.3 µF\n",
      "18 dB: L = 318.3 µH, C1 = 4.4 µF, C2 = 13.3 µF\n"
     ]
    }
   ],
   "execution_count": 3
  },
  {
   "metadata": {},
   "cell_type": "markdown",
   "source": [
    "## Pásmová propust\n",
    "\n",
    "![Pásmová propust](mipass.png)\n",
    "\n",
    "$ \\begin{aligned} f_3 &= f_{dd} \\cdot \\sqrt{\\frac{f_{dh}}{f_{dh} - f_{dd}}}, \\\\ \\\\ f_4 &= f_3 \\cdot \\frac{f_{dh} - f_{dd}}{f_{dd}} \\end{aligned} $\n",
    "\n",
    "| 6 dB / oct.                                                                                                                          | 12 dB / ct.                                                                                                                                                                                                       | 18 dB / oct.                                                                                                                                                                                                                                                                                                                                 |\n",
    "|:-------------------------------------------------------------------------------------------------------------------------------------|:------------------------------------------------------------------------------------------------------------------------------------------------------------------------------------------------------------------|:---------------------------------------------------------------------------------------------------------------------------------------------------------------------------------------------------------------------------------------------------------------------------------------------------------------------------------------------|\n",
    "| $ \\begin{aligned} L &= \\frac{Z_s}{2 \\cdot \\pi \\cdot f_{dh}}, \\\\ \\\\ C &= \\frac{1}{2 \\cdot \\pi \\cdot f_{dd} \\cdot Z_s} \\end{aligned} $ | $ \\begin{aligned} L_1 &= \\frac{Z_s}{\\pi \\cdot f_4}, \\\\ \\\\ L_2 &= \\frac{Z_s}{\\pi \\cdot f_3}, \\\\ \\\\ C_1 &= \\frac{1}{4 \\cdot \\pi \\cdot f_3 \\cdot Z_s}, \\\\ \\\\ C_2 &= \\frac{1}{4 \\cdot \\pi \\cdot f_4 \\cdot Z_s} \\end{aligned} $ | $ \\begin{aligned} L_1 &= \\frac{3 \\cdot Z_s}{4 \\cdot \\pi \\cdot f_4}, \\\\ \\\\ L_2 &= \\frac{Z_s}{4 \\cdot \\pi \\cdot f_4}, \\\\ \\\\ L_3 &= \\frac{3 \\cdot Z_s}{8 \\cdot \\pi \\cdot f_3}, \\\\ \\\\ C_1 &= \\frac{1}{3 \\cdot \\pi \\cdot f_3 \\cdot Z_s}, \\\\ \\\\ C_2 &= \\frac{1}{ \\pi \\cdot f_3 \\cdot Z_s}, \\\\ \\\\ C_3 &= \\frac{2}{3 \\cdot \\pi \\cdot f_4 \\cdot Z_s} \\end{aligned} $ |\n"
   ],
   "id": "71343c9c6d08498d"
  },
  {
   "metadata": {
    "tags": [
     "setup"
    ],
    "ExecuteTime": {
     "end_time": "2024-12-20T19:46:27.331818Z",
     "start_time": "2024-12-20T19:46:27.316218Z"
    }
   },
   "cell_type": "code",
   "source": [
    "impedance_reproduktoru = ureg.parse_expression('8 Ω')\n",
    "dolni_frekvence = ureg.parse_expression('300 Hz')\n",
    "horni_frekvence = ureg.parse_expression('3 kHz')\n",
    "\n",
    "f3 = 1 / (math.pi * dolni_frekvence * math.sqrt(horni_frekvence / (horni_frekvence - dolni_frekvence)))\n",
    "f4 = 1 / (math.pi * math.sqrt(horni_frekvence / (horni_frekvence - dolni_frekvence)) * (\n",
    "        horni_frekvence - dolni_frekvence))\n",
    "\n",
    "print(\n",
    "    f\"6 dB: L = {(impedance_reproduktoru * b / 2).to(ureg.henry):.1f~#P}, C = {(a / (2 * impedance_reproduktoru)).to(ureg.farad):.1f~#P}\")\n",
    "print(\n",
    "    f\"12 dB: L1 = {(impedance_reproduktoru * f4).to(ureg.henry):.1f~#P}, L2 = {(impedance_reproduktoru * f3).to(ureg.henry):.1f~#P}, C1 = {(f3 / (4 * impedance_reproduktoru)).to(ureg.farad):.1f~#P}, C2 = {(f4 / (4 * impedance_reproduktoru)).to(ureg.farad):.1f~#P}\")\n",
    "print(\n",
    "    f\"18 dB: L1 = {(3 * f4 * impedance_reproduktoru / 4).to(ureg.henry):.1f~#P}, L2 = {(f4 * impedance_reproduktoru / 4).to(ureg.henry):.1f~#P}, L3 = {(3 * impedance_reproduktoru * f3 / 8).to(ureg.henry):.1f~#P}, C1 = {(f3 / (3 * impedance_reproduktoru)).to(ureg.farad):.1f~#P}, C2 = {(f3 / impedance_reproduktoru).to(ureg.farad):.1f~#P}, C3 = {(2 * f4 / (3 * impedance_reproduktoru)).to(ureg.farad):.1f~#P}\")"
   ],
   "id": "242ba50dbc59da0",
   "outputs": [
    {
     "name": "stdout",
     "output_type": "stream",
     "text": [
      "6 dB: L = 424.4 µH, C = 66.3 µF\n",
      "12 dB: L1 = 894.7 µH, L2 = 8.1 mH, C1 = 31.5 µF, C2 = 3.5 µF\n",
      "18 dB: L1 = 671.1 µH, L2 = 223.7 µH, L3 = 3.0 mH, C1 = 41.9 µF, C2 = 125.8 µF, C3 = 9.3 µF\n"
     ]
    }
   ],
   "execution_count": 4
  },
  {
   "metadata": {},
   "cell_type": "markdown",
   "source": [
    "Po výpočtu a doladění výhybky je čas přikročit k její realizaci. Nyní pár slov k použitým součástkám.\n",
    "\n",
    "Cívky je dobré vinout silnějším měděným drátem - pro 8Ω soustavy je průměr 1 mm dobrá hodnota. U cívek pro horní a pásmovou propust postačí vinutí z drátu 0,8 mm bez podstatné újmy na funkci. Je to proto, že činitel jakosti cívky roste s kmitočtem a protože indukčnosti pro vyšší kmitočty vycházejí menší - kratší drát má i menší odpor. Kostřička, na které je cívka navinuta, by měla být z materiálu s vysokou termickou odolností. Kritický případ přehřátí totiž nastává při poruše reproduktoru.\n",
    "\n",
    "Kondenzátory by měly mít plastové dielektrikum (polyester, polypropylén - MKT 205, 225). Takový kondenzátor má nízké ztráty, málo se ohřívá a je časově a teplotně stabilní. Pro menší výkony lze použít i kondenzátory bipolární (TF 204).\n",
    "\n",
    "Rezistory (UR 004, 006 či keramické typy) je vhodné výkonově předimenzovat - myslete na to, že horký odpor bude v sousedství vatelínu.\n",
    "\n",
    "Žárovku, pokud ji použijete jako ochranný prvek výškového reproduktoru, je dobré umístit do objímky - případná výměna je pak snazší.\n",
    "\n",
    "Propojovací vodiče uvnitř soustavy je dobré dimenzovat podobně jako vodiče v přívodních kabelech. Větší průřez pochopitelně neškodí.\n",
    "\n",
    "Plošný spoj doporučujeme před montáží výhybky důkladně prohlédnout na silném světle, nejlépe lupou. Vlasový zkrat, který objevíte až v hotové výhybce, kdy se Vám zakouří ze zesilovače určitě nepotěší. Veškeré součástky na plošném spoji přilepte a samotnou výhybku přišroubujte na gumových podložkách tak, aby nemohla drnčet. Nejvýhodnější je montáž přímo na misku s konektory."
   ],
   "id": "dfd953954e5e991d"
  },
  {
   "metadata": {},
   "cell_type": "markdown",
   "source": [
    "## Útlum\n",
    "\n",
    "Paralelní (L-pad):\n",
    "L-pad je kombinace dvou rezistorů (sériového a paralelního) a slouží k útlumu bez změny impedance. Tím neovlivníte práci výhybky.\n",
    "Výhoda: Zachová frekvenční charakteristiku i impedance systému.\n",
    "\n",
    "![L-pad](L-pad.png)\n",
    "\n",
    "$A = 10 ^ {\\frac{dB}{20}}$\n",
    "\n",
    "Sériový rezistor ($R_S$):\n",
    "\n",
    "$R_S = Z_{load} \\cdot \\frac{A - 1}{A} $\n",
    "\n",
    "\n",
    "Paralelní rezistor ($R_P$):\n",
    "\n",
    "$R_P = Z_{load} \\cdot \\frac{1}{A - 1}$\n",
    "\n",
    "Kde:\n",
    "$Z_{load}$ je impedance výškového reproduktoru.\n",
    "$A$ je požadovaný útlum (např. 10 dB odpovídá $A = 10^{10/20} \\approx 3.16$).\n"
   ],
   "id": "d4b590cf08ada2e"
  },
  {
   "metadata": {
    "ExecuteTime": {
     "end_time": "2024-12-20T20:12:12.955284Z",
     "start_time": "2024-12-20T20:12:12.950292Z"
    }
   },
   "cell_type": "code",
   "source": [
    "impedance_reproduktoru = ureg.parse_expression('8 Ω')\n",
    "utlum = 10  # dB\n",
    "A = 10 ** (utlum / 20)\n",
    "\n",
    "print(f\"A = {A:.2f}\")\n",
    "print(f\"1/A = {1 / A:.2f}\")\n",
    "\n",
    "R_S = impedance_reproduktoru * (A - 1.0) / A\n",
    "R_P = impedance_reproduktoru * (1.0 / (A - 1))\n",
    "\n",
    "print(f\"R_S = {R_S.to(ureg.ohm):.1f~#P}\")\n",
    "print(f\"R_P = {R_P.to(ureg.ohm):.1f~#P}\")\n"
   ],
   "id": "3f836ce932b2ce98",
   "outputs": [
    {
     "name": "stdout",
     "output_type": "stream",
     "text": [
      "A = 3.16\n",
      "1/A = 0.32\n",
      "R_S = 5.5 Ω\n",
      "R_P = 3.7 Ω\n"
     ]
    }
   ],
   "execution_count": 18
  },
  {
   "metadata": {
    "ExecuteTime": {
     "end_time": "2024-12-20T20:31:48.031581Z",
     "start_time": "2024-12-20T20:31:48.027370Z"
    }
   },
   "cell_type": "code",
   "source": [
    "# Calculate the resistance for 3.7 ohms\n",
    "R_parallel_3_7 = 1 / (1/10 + 1/10 + 1/47+ 1/47+ 1/100+ 1/100+ 1/220+ 1/220)  # Three 10-ohm resistors in parallel\n",
    "R_total_3_7 = R_parallel_3_7 + 10  # Adding a 10-ohm resistor in series\n",
    "\n",
    "# Calculate the resistance for 5.5 ohms\n",
    "R_parallel_5_5 = 1 / (1/10 + 1/47+ 1/47+ 1/47+ 1/100+ 1/220+ 1/220)  # Two 10-ohm resistors in parallel\n",
    "R_total_5_5 = R_parallel_5_5 + 10  # Adding a 10-ohm resistor in series\n",
    "\n",
    "print(f\"Resistance for 3.7 Ω: {R_parallel_3_7:.2f} Ω\")\n",
    "print(f\"Resistance for 5.5 Ω: {R_parallel_5_5:.2f} Ω\")"
   ],
   "id": "9ce0368d861b3574",
   "outputs": [
    {
     "name": "stdout",
     "output_type": "stream",
     "text": [
      "Resistance for 3.7 Ω: 3.68 Ω\n",
      "Resistance for 5.5 Ω: 5.47 Ω\n"
     ]
    }
   ],
   "execution_count": 62
  }
 ],
 "metadata": {
  "kernelspec": {
   "name": "python3",
   "language": "python",
   "display_name": "Python 3 (ipykernel)"
  }
 },
 "nbformat": 5,
 "nbformat_minor": 9
}
